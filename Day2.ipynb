{
  "nbformat": 4,
  "nbformat_minor": 0,
  "metadata": {
    "colab": {
      "provenance": [],
      "authorship_tag": "ABX9TyPKm8JeHSCw4iRxGTKPKtR0",
      "include_colab_link": true
    },
    "kernelspec": {
      "name": "python3",
      "display_name": "Python 3"
    },
    "language_info": {
      "name": "python"
    }
  },
  "cells": [
    {
      "cell_type": "markdown",
      "metadata": {
        "id": "view-in-github",
        "colab_type": "text"
      },
      "source": [
        "<a href=\"https://colab.research.google.com/github/jansiddiqui/Learning-MachineLearning/blob/F-Sidd/Day2.ipynb\" target=\"_parent\"><img src=\"https://colab.research.google.com/assets/colab-badge.svg\" alt=\"Open In Colab\"/></a>"
      ]
    },
    {
      "cell_type": "code",
      "execution_count": 1,
      "metadata": {
        "colab": {
          "base_uri": "https://localhost:8080/"
        },
        "id": "Z-IlawdEM36B",
        "outputId": "deffceb0-7a5c-4978-f106-6907461235c6"
      },
      "outputs": [
        {
          "output_type": "stream",
          "name": "stdout",
          "text": [
            "25\n"
          ]
        }
      ],
      "source": [
        "print(25)"
      ]
    },
    {
      "cell_type": "code",
      "source": [
        "print(\"Machine Learning Jan Mohammad\")"
      ],
      "metadata": {
        "colab": {
          "base_uri": "https://localhost:8080/"
        },
        "id": "2r8fUdswNFuu",
        "outputId": "2daa862a-9240-40a9-8b03-39960d4428c0"
      },
      "execution_count": 2,
      "outputs": [
        {
          "output_type": "stream",
          "name": "stdout",
          "text": [
            "Machine Learning Jan Mohammad\n"
          ]
        }
      ]
    },
    {
      "cell_type": "code",
      "source": [
        "print(\"Machine Learning\" + \" Jan Mohammad\")"
      ],
      "metadata": {
        "colab": {
          "base_uri": "https://localhost:8080/"
        },
        "id": "8jwRIVPCNupX",
        "outputId": "78305241-95f5-4853-e4ce-bb00984ba355"
      },
      "execution_count": 4,
      "outputs": [
        {
          "output_type": "stream",
          "name": "stdout",
          "text": [
            "Machine Learning Jan Mohammad\n"
          ]
        }
      ]
    },
    {
      "cell_type": "code",
      "source": [
        "print(8+9)"
      ],
      "metadata": {
        "colab": {
          "base_uri": "https://localhost:8080/"
        },
        "id": "eLz0C-o9N_Ve",
        "outputId": "f3af112b-c233-47ca-bcc5-48d3ff3b55fe"
      },
      "execution_count": 5,
      "outputs": [
        {
          "output_type": "stream",
          "name": "stdout",
          "text": [
            "17\n"
          ]
        }
      ]
    },
    {
      "cell_type": "code",
      "source": [
        "type(8)"
      ],
      "metadata": {
        "colab": {
          "base_uri": "https://localhost:8080/"
        },
        "id": "Wk-XPkA_OFU-",
        "outputId": "2b45fbea-d7a9-457c-cb9b-cfa6889b7ddf"
      },
      "execution_count": 6,
      "outputs": [
        {
          "output_type": "execute_result",
          "data": {
            "text/plain": [
              "int"
            ]
          },
          "metadata": {},
          "execution_count": 6
        }
      ]
    },
    {
      "cell_type": "code",
      "source": [
        "type(7.8)"
      ],
      "metadata": {
        "colab": {
          "base_uri": "https://localhost:8080/"
        },
        "id": "MDwPILfzOiTw",
        "outputId": "1e4f58b7-d316-416d-d851-cfd088bf462a"
      },
      "execution_count": 7,
      "outputs": [
        {
          "output_type": "execute_result",
          "data": {
            "text/plain": [
              "float"
            ]
          },
          "metadata": {},
          "execution_count": 7
        }
      ]
    },
    {
      "cell_type": "code",
      "source": [
        "type(\"jan\")"
      ],
      "metadata": {
        "colab": {
          "base_uri": "https://localhost:8080/"
        },
        "id": "HD9uynf6Olhz",
        "outputId": "beed0fd6-38d5-470e-a0b5-ef4e911408c5"
      },
      "execution_count": 8,
      "outputs": [
        {
          "output_type": "execute_result",
          "data": {
            "text/plain": [
              "str"
            ]
          },
          "metadata": {},
          "execution_count": 8
        }
      ]
    },
    {
      "cell_type": "code",
      "source": [
        "jan = \"Mohammad\";\n",
        "print(jan)"
      ],
      "metadata": {
        "colab": {
          "base_uri": "https://localhost:8080/"
        },
        "id": "Ip0__RLxOnzE",
        "outputId": "b65127f8-2d8a-4859-af39-8a69b13886c8"
      },
      "execution_count": 9,
      "outputs": [
        {
          "output_type": "stream",
          "name": "stdout",
          "text": [
            "Mohammad\n"
          ]
        }
      ]
    },
    {
      "cell_type": "code",
      "source": [
        "jan=\"hey\"\n",
        "print(jan)"
      ],
      "metadata": {
        "colab": {
          "base_uri": "https://localhost:8080/"
        },
        "id": "Xp6yjZH4O4gB",
        "outputId": "7976d58b-329b-455d-a892-aee088ddebac"
      },
      "execution_count": 11,
      "outputs": [
        {
          "output_type": "stream",
          "name": "stdout",
          "text": [
            "hey\n"
          ]
        }
      ]
    },
    {
      "cell_type": "code",
      "source": [
        "jan1, jan2, jan3 = \"Hey\", \"How\", \"You\"\n",
        "print(jan1)\n",
        "print(jan2)\n",
        "print(jan3)"
      ],
      "metadata": {
        "colab": {
          "base_uri": "https://localhost:8080/"
        },
        "id": "to_kXaqePI9v",
        "outputId": "8afacdc6-6b0b-4449-9a61-ab889ee131bd"
      },
      "execution_count": 12,
      "outputs": [
        {
          "output_type": "stream",
          "name": "stdout",
          "text": [
            "Hey\n",
            "How\n",
            "You\n"
          ]
        }
      ]
    },
    {
      "cell_type": "code",
      "source": [
        "x = y = z = 345\n",
        "print(x)\n",
        "print(y)\n",
        "print(z)"
      ],
      "metadata": {
        "colab": {
          "base_uri": "https://localhost:8080/"
        },
        "id": "I1IrwQF4PZgh",
        "outputId": "fcbe824d-458b-4184-fe50-72ee4aaae310"
      },
      "execution_count": 13,
      "outputs": [
        {
          "output_type": "stream",
          "name": "stdout",
          "text": [
            "345\n",
            "345\n",
            "345\n"
          ]
        }
      ]
    },
    {
      "cell_type": "code",
      "source": [
        "jan1 = int(input(\"Enter the first Number: \"))\n",
        "jan2 = int(input(\"Enter the second Number: \"))\n",
        "sum = jan1 + jan2\n",
        "print(\"Sum: \",sum)"
      ],
      "metadata": {
        "colab": {
          "base_uri": "https://localhost:8080/"
        },
        "id": "Bn1PhO0QPmyL",
        "outputId": "6803d33d-53d2-428a-aa1c-b8568499a5e8"
      },
      "execution_count": 18,
      "outputs": [
        {
          "output_type": "stream",
          "name": "stdout",
          "text": [
            "Enter the first Number: 23\n",
            "Enter the second Number: 12\n",
            "Sum:  35\n"
          ]
        }
      ]
    },
    {
      "cell_type": "code",
      "source": [
        "#changing data type\n",
        "num = 56\n",
        "bool(num)"
      ],
      "metadata": {
        "colab": {
          "base_uri": "https://localhost:8080/"
        },
        "id": "pHu1YH51PyM7",
        "outputId": "c7d7bb0e-724c-4ed5-9eb6-5b9870d12f20"
      },
      "execution_count": 21,
      "outputs": [
        {
          "output_type": "execute_result",
          "data": {
            "text/plain": [
              "True"
            ]
          },
          "metadata": {},
          "execution_count": 21
        }
      ]
    },
    {
      "cell_type": "code",
      "source": [],
      "metadata": {
        "id": "VHyZJJApQ3dW"
      },
      "execution_count": null,
      "outputs": []
    }
  ]
}